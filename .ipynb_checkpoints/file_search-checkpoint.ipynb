{
 "cells": [
  {
   "cell_type": "code",
   "execution_count": 1,
   "metadata": {},
   "outputs": [],
   "source": []
  },
  {
   "cell_type": "code",
   "execution_count": 1,
   "metadata": {},
   "outputs": [],
   "source": [
    "import pandas as pd\n",
    "import os"
   ]
  },
  {
   "cell_type": "code",
   "execution_count": 2,
   "metadata": {},
   "outputs": [],
   "source": [
    "from helper import search_string_in_file"
   ]
  },
  {
   "cell_type": "code",
   "execution_count": null,
   "metadata": {},
   "outputs": [],
   "source": []
  },
  {
   "cell_type": "code",
   "execution_count": 5,
   "metadata": {},
   "outputs": [],
   "source": [
    "df = pd.DataFrame()\n",
    "files = os.walk(\".\")\n",
    "for p, _, f_list in files:\n",
    "    for file_name in f_list:\n",
    "        if file_name.endswith(\".js\"):\n",
    "            tmp_df = search_string_in_file(os.path.join(p, file_name), \"snhuApCompletedCollegeCourseQuestion\")\n",
    "            df = pd.concat([df,tmp_df])\n",
    "            "
   ]
  },
  {
   "cell_type": "code",
   "execution_count": 4,
   "metadata": {},
   "outputs": [
    {
     "data": {
      "text/html": [
       "<div>\n",
       "<style scoped>\n",
       "    .dataframe tbody tr th:only-of-type {\n",
       "        vertical-align: middle;\n",
       "    }\n",
       "\n",
       "    .dataframe tbody tr th {\n",
       "        vertical-align: top;\n",
       "    }\n",
       "\n",
       "    .dataframe thead th {\n",
       "        text-align: right;\n",
       "    }\n",
       "</style>\n",
       "<table border=\"1\" class=\"dataframe\">\n",
       "  <thead>\n",
       "    <tr style=\"text-align: right;\">\n",
       "      <th></th>\n",
       "      <th>file_name</th>\n",
       "      <th>line_number</th>\n",
       "      <th>string_to_search</th>\n",
       "    </tr>\n",
       "  </thead>\n",
       "  <tbody>\n",
       "    <tr>\n",
       "      <th>0</th>\n",
       "      <td>.\\sf_dev\\lwc\\snhuApAppAcademicsCollegeExperien...</td>\n",
       "      <td>18.0</td>\n",
       "      <td>snhuApCompletedCollegeCourseQuestion</td>\n",
       "    </tr>\n",
       "    <tr>\n",
       "      <th>1</th>\n",
       "      <td>.\\sf_dev\\lwc\\snhuApAppAcademicsCollegeExperien...</td>\n",
       "      <td>102.0</td>\n",
       "      <td>snhuApCompletedCollegeCourseQuestion</td>\n",
       "    </tr>\n",
       "    <tr>\n",
       "      <th>0</th>\n",
       "      <td>.\\sf_dev\\lwc\\snhuApAppAcademicsCollegeExperien...</td>\n",
       "      <td>18.0</td>\n",
       "      <td>snhuApCompletedCollegeCourseQuestion</td>\n",
       "    </tr>\n",
       "    <tr>\n",
       "      <th>1</th>\n",
       "      <td>.\\sf_dev\\lwc\\snhuApAppAcademicsCollegeExperien...</td>\n",
       "      <td>102.0</td>\n",
       "      <td>snhuApCompletedCollegeCourseQuestion</td>\n",
       "    </tr>\n",
       "  </tbody>\n",
       "</table>\n",
       "</div>"
      ],
      "text/plain": [
       "                                           file_name  line_number  \\\n",
       "0  .\\sf_dev\\lwc\\snhuApAppAcademicsCollegeExperien...         18.0   \n",
       "1  .\\sf_dev\\lwc\\snhuApAppAcademicsCollegeExperien...        102.0   \n",
       "0  .\\sf_dev\\lwc\\snhuApAppAcademicsCollegeExperien...         18.0   \n",
       "1  .\\sf_dev\\lwc\\snhuApAppAcademicsCollegeExperien...        102.0   \n",
       "\n",
       "                       string_to_search  \n",
       "0  snhuApCompletedCollegeCourseQuestion  \n",
       "1  snhuApCompletedCollegeCourseQuestion  \n",
       "0  snhuApCompletedCollegeCourseQuestion  \n",
       "1  snhuApCompletedCollegeCourseQuestion  "
      ]
     },
     "execution_count": 4,
     "metadata": {},
     "output_type": "execute_result"
    }
   ],
   "source": [
    "df"
   ]
  },
  {
   "cell_type": "code",
   "execution_count": null,
   "metadata": {},
   "outputs": [],
   "source": []
  },
  {
   "cell_type": "code",
   "execution_count": null,
   "metadata": {},
   "outputs": [],
   "source": []
  }
 ],
 "metadata": {
  "kernelspec": {
   "display_name": "Python 3",
   "language": "python",
   "name": "python3"
  },
  "language_info": {
   "codemirror_mode": {
    "name": "ipython",
    "version": 3
   },
   "file_extension": ".py",
   "mimetype": "text/x-python",
   "name": "python",
   "nbconvert_exporter": "python",
   "pygments_lexer": "ipython3",
   "version": "3.7.3"
  }
 },
 "nbformat": 4,
 "nbformat_minor": 2
}
